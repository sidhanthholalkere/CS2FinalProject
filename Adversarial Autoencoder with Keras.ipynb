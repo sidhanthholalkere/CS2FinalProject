{
 "cells": [
  {
   "cell_type": "markdown",
   "metadata": {},
   "source": [
    "# Adversarial Autoencoders using Keras"
   ]
  },
  {
   "cell_type": "code",
   "execution_count": 2,
   "metadata": {
    "scrolled": true
   },
   "outputs": [
    {
     "name": "stderr",
     "output_type": "stream",
     "text": [
      "Using TensorFlow backend.\n"
     ]
    }
   ],
   "source": [
    "import keras\n",
    "import tensorflow as tf\n",
    "\n",
    "from keras.layers import Input, Dense\n",
    "from keras.models import Model\n"
   ]
  },
  {
   "cell_type": "code",
   "execution_count": 5,
   "metadata": {
    "scrolled": false
   },
   "outputs": [
    {
     "name": "stdout",
     "output_type": "stream",
     "text": [
      "WARNING:tensorflow:From /home/sid/anaconda3/lib/python3.7/site-packages/tensorflow/python/framework/op_def_library.py:263: colocate_with (from tensorflow.python.framework.ops) is deprecated and will be removed in a future version.\n",
      "Instructions for updating:\n",
      "Colocations handled automatically by placer.\n"
     ]
    }
   ],
   "source": [
    "bottleneck = 32\n",
    "\n",
    "input_img = Input(shape=(784,))\n",
    "\n",
    "encoded = Dense(bottleneck, activation='relu')(input_img)\n",
    "\n",
    "decoded = Dense(784, activation='sigmoid')(encoded)\n",
    "\n",
    "autoencoder = Model(input_img, decoded)"
   ]
  },
  {
   "cell_type": "code",
   "execution_count": 11,
   "metadata": {},
   "outputs": [],
   "source": [
    "encoder = Model(input_img, encoded)\n",
    "\n",
    "encoded_input = Input(shape=(bottleneck,))\n",
    "\n",
    "decoder_layer = autoencoder.layers[-1]\n",
    "\n",
    "decoder = Model(encoded_input, decoder_layer(encoded_input))"
   ]
  },
  {
   "cell_type": "code",
   "execution_count": 12,
   "metadata": {},
   "outputs": [],
   "source": [
    "autoencoder.compile(optimizer='adadelta', loss='binary_crossentropy')\n"
   ]
  },
  {
   "cell_type": "code",
   "execution_count": 13,
   "metadata": {},
   "outputs": [],
   "source": [
    "from keras.datasets import mnist\n",
    "import numpy as np\n",
    "(x_train, _), (x_test, _) = mnist.load_data()"
   ]
  },
  {
   "cell_type": "code",
   "execution_count": 15,
   "metadata": {},
   "outputs": [
    {
     "name": "stdout",
     "output_type": "stream",
     "text": [
      "(60000, 784)\n",
      "(10000, 784)\n"
     ]
    }
   ],
   "source": [
    "x_train = x_train.astype('float32') / 255.\n",
    "x_test = x_test.astype('float32') / 255.\n",
    "x_train = x_train.reshape((len(x_train), np.prod(x_train.shape[1:])))\n",
    "x_test = x_test.reshape((len(x_test), np.prod(x_test.shape[1:])))\n",
    "print(x_train.shape)\n",
    "print(x_test.shape)"
   ]
  },
  {
   "cell_type": "code",
   "execution_count": null,
   "metadata": {},
   "outputs": [
    {
     "name": "stdout",
     "output_type": "stream",
     "text": [
      "WARNING:tensorflow:From /home/sid/anaconda3/lib/python3.7/site-packages/tensorflow/python/ops/math_ops.py:3066: to_int32 (from tensorflow.python.ops.math_ops) is deprecated and will be removed in a future version.\n",
      "Instructions for updating:\n",
      "Use tf.cast instead.\n",
      "Train on 60000 samples, validate on 10000 samples\n",
      "Epoch 1/50\n",
      "60000/60000 [==============================] - 7s 108us/step - loss: 0.3583 - val_loss: 0.2707\n",
      "Epoch 2/50\n",
      "60000/60000 [==============================] - 6s 93us/step - loss: 0.2630 - val_loss: 0.2520\n",
      "Epoch 3/50\n",
      "60000/60000 [==============================] - 8s 138us/step - loss: 0.2414 - val_loss: 0.2288\n",
      "Epoch 4/50\n",
      "60000/60000 [==============================] - 8s 130us/step - loss: 0.2205 - val_loss: 0.2103\n",
      "Epoch 5/50\n",
      "60000/60000 [==============================] - 8s 134us/step - loss: 0.2052 - val_loss: 0.1978\n",
      "Epoch 6/50\n",
      "60000/60000 [==============================] - 9s 146us/step - loss: 0.1946 - val_loss: 0.1888\n",
      "Epoch 7/50\n",
      "60000/60000 [==============================] - 9s 143us/step - loss: 0.1866 - val_loss: 0.1819\n",
      "Epoch 8/50\n",
      "60000/60000 [==============================] - 9s 144us/step - loss: 0.1801 - val_loss: 0.1759\n",
      "Epoch 9/50\n",
      "60000/60000 [==============================] - 8s 138us/step - loss: 0.1744 - val_loss: 0.1704\n",
      "Epoch 10/50\n",
      "60000/60000 [==============================] - 9s 147us/step - loss: 0.1691 - val_loss: 0.1653\n",
      "Epoch 11/50\n",
      "60000/60000 [==============================] - 9s 149us/step - loss: 0.1643 - val_loss: 0.1607\n",
      "Epoch 12/50\n",
      "60000/60000 [==============================] - 9s 146us/step - loss: 0.1600 - val_loss: 0.1566\n",
      "Epoch 13/50\n",
      "60000/60000 [==============================] - 10s 165us/step - loss: 0.1560 - val_loss: 0.1529\n",
      "Epoch 14/50\n",
      "60000/60000 [==============================] - 9s 151us/step - loss: 0.1524 - val_loss: 0.1493\n",
      "Epoch 15/50\n",
      "60000/60000 [==============================] - 9s 154us/step - loss: 0.1491 - val_loss: 0.1462\n",
      "Epoch 16/50\n",
      "60000/60000 [==============================] - 10s 162us/step - loss: 0.1460 - val_loss: 0.1431\n",
      "Epoch 17/50\n",
      "60000/60000 [==============================] - 9s 157us/step - loss: 0.1432 - val_loss: 0.1404\n",
      "Epoch 18/50\n",
      "60000/60000 [==============================] - 9s 152us/step - loss: 0.1405 - val_loss: 0.1378\n",
      "Epoch 19/50\n",
      "60000/60000 [==============================] - 9s 153us/step - loss: 0.1381 - val_loss: 0.1354\n",
      "Epoch 20/50\n",
      "60000/60000 [==============================] - 9s 151us/step - loss: 0.1357 - val_loss: 0.1331\n",
      "Epoch 21/50\n",
      "60000/60000 [==============================] - 9s 155us/step - loss: 0.1335 - val_loss: 0.1309\n",
      "Epoch 22/50\n",
      "60000/60000 [==============================] - 8s 141us/step - loss: 0.1314 - val_loss: 0.1289\n",
      "Epoch 23/50\n",
      "60000/60000 [==============================] - 9s 157us/step - loss: 0.1295 - val_loss: 0.1270\n",
      "Epoch 24/50\n",
      "60000/60000 [==============================] - 10s 160us/step - loss: 0.1276 - val_loss: 0.1251\n",
      "Epoch 25/50\n",
      "60000/60000 [==============================] - 9s 151us/step - loss: 0.1259 - val_loss: 0.1234\n",
      "Epoch 26/50\n",
      "60000/60000 [==============================] - 9s 147us/step - loss: 0.1242 - val_loss: 0.1218\n",
      "Epoch 27/50\n",
      "60000/60000 [==============================] - 10s 162us/step - loss: 0.1227 - val_loss: 0.1203\n",
      "Epoch 28/50\n",
      "60000/60000 [==============================] - 10s 162us/step - loss: 0.1212 - val_loss: 0.1189\n",
      "Epoch 29/50\n",
      "60000/60000 [==============================] - 10s 166us/step - loss: 0.1198 - val_loss: 0.1175\n",
      "Epoch 30/50\n",
      "60000/60000 [==============================] - 10s 162us/step - loss: 0.1185 - val_loss: 0.1163\n",
      "Epoch 31/50\n",
      "60000/60000 [==============================] - 9s 158us/step - loss: 0.1173 - val_loss: 0.1151\n",
      "Epoch 32/50\n",
      "60000/60000 [==============================] - 10s 166us/step - loss: 0.1161 - val_loss: 0.1139\n",
      "Epoch 33/50\n",
      "60000/60000 [==============================] - 10s 169us/step - loss: 0.1151 - val_loss: 0.1129\n",
      "Epoch 34/50\n",
      "60000/60000 [==============================] - 10s 169us/step - loss: 0.1140 - val_loss: 0.1119\n",
      "Epoch 35/50\n",
      "60000/60000 [==============================] - 10s 170us/step - loss: 0.1131 - val_loss: 0.1110\n",
      "Epoch 36/50\n",
      "60000/60000 [==============================] - 10s 169us/step - loss: 0.1122 - val_loss: 0.1101\n",
      "Epoch 37/50\n",
      "60000/60000 [==============================] - 11s 179us/step - loss: 0.1114 - val_loss: 0.1093\n",
      "Epoch 38/50\n",
      "60000/60000 [==============================] - 10s 172us/step - loss: 0.1106 - val_loss: 0.1085\n",
      "Epoch 39/50\n",
      "60000/60000 [==============================] - 11s 180us/step - loss: 0.1098 - val_loss: 0.1078\n",
      "Epoch 40/50\n",
      "60000/60000 [==============================] - 11s 176us/step - loss: 0.1092 - val_loss: 0.1071\n",
      "Epoch 41/50\n",
      "36864/60000 [=================>............] - ETA: 3s - loss: 0.1086"
     ]
    }
   ],
   "source": [
    "autoencoder.fit(x_train, x_train,\n",
    "                epochs=50,\n",
    "                batch_size=256,\n",
    "                shuffle=True,\n",
    "                validation_data=(x_test, x_test))"
   ]
  }
 ],
 "metadata": {
  "kernelspec": {
   "display_name": "Python 3",
   "language": "python",
   "name": "python3"
  },
  "language_info": {
   "codemirror_mode": {
    "name": "ipython",
    "version": 3
   },
   "file_extension": ".py",
   "mimetype": "text/x-python",
   "name": "python",
   "nbconvert_exporter": "python",
   "pygments_lexer": "ipython3",
   "version": "3.7.3"
  }
 },
 "nbformat": 4,
 "nbformat_minor": 2
}
